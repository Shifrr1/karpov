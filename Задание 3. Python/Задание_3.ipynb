{
 "cells": [
  {
   "cell_type": "code",
   "execution_count": 1,
   "metadata": {},
   "outputs": [],
   "source": [
    "import numpy as np\n",
    "import pandas as pd\n",
    "import matplotlib.pyplot as plt\n",
    "import seaborn as sns\n",
    "from scipy import stats\n",
    "from statsmodels.stats.proportion import proportions_ztest\n",
    "from urllib.parse import urlencode\n",
    "import requests"
   ]
  },
  {
   "cell_type": "code",
   "execution_count": 2,
   "metadata": {},
   "outputs": [],
   "source": [
    "df_group_add_url = \"https://disk.yandex.ru/d/5Kxrz02m3IBUwQ\" #pd.read_csv('group_add.csv')"
   ]
  },
  {
   "cell_type": "code",
   "execution_count": 3,
   "metadata": {},
   "outputs": [],
   "source": [
    "def get_ydisk_url(public_key):\n",
    "        base_url = 'https://cloud-api.yandex.net/v1/disk/public/resources/download?'\n",
    "        final_url = base_url + urlencode(dict(public_key=public_key))\n",
    "        response = requests.get(final_url)\n",
    "        download_url = response.json()['href']\n",
    "        return download_url"
   ]
  },
  {
   "cell_type": "code",
   "execution_count": 4,
   "metadata": {},
   "outputs": [],
   "source": [
    "df_group_add = pd.read_csv(get_ydisk_url(df_group_add_url),\n",
    "                            names=['id', 'grp'], header=0)\n",
    "df_groups = pd.read_csv('groups.csv',sep=';')\n",
    "df_activ = pd.read_csv('active_studs.csv')\n",
    "df_checks = pd.read_csv('checks.csv',sep=';')"
   ]
  },
  {
   "cell_type": "code",
   "execution_count": 5,
   "metadata": {},
   "outputs": [],
   "source": [
    "def make_df_and_metricks(group, group_add, activ, checks):\n",
    "    \"\"\"\n",
    "    Функция для объединения данных и расчета метрик для активных пользователей\n",
    "    \n",
    "    Parameters:\n",
    "    group, group_add - данные о группах пользователей\n",
    "    activ - данные об активности \n",
    "    checks - данные о платежах\n",
    "    \n",
    "    Returns:\n",
    "    DataFrame с метриками по группам\n",
    "    \"\"\"\n",
    "    # Объединяем группы\n",
    "    df = pd.concat([group, group_add])\n",
    "    # Добавляем данные об активности\n",
    "    df_ac = df.merge(activ, left_on='id', right_on='student_id', how='left')\n",
    "    # Добавляем данные о платежах\n",
    "    data = df_ac.merge(checks, left_on='id', right_on='student_id', how='left')\n",
    "    # Переименовываем столбцы\n",
    "    data.columns = ['id', 'group', 'activ', 'checks', 'rev']\n",
    "    # Заполняем пропуски нулями\n",
    "    data[['activ', 'checks', 'rev']] = data[['activ', 'checks', 'rev']].fillna(0)\n",
    "    # Преобразуем в бинарные признаки\n",
    "    data['activ'] = data['activ'].apply(lambda x: 1 if x > 0 else 0)\n",
    "    data['checks'] = data['checks'].apply(lambda x: 1 if x > 0 else 0)\n",
    "    # Фильтруем активных пользователей и считаем метрики\n",
    "    result = data.query('activ == 1').groupby('group', as_index=False).agg(\n",
    "        count=('id', 'count'),           # Количество активных пользователей\n",
    "        CR=('checks', 'mean'),           # Conversion Rate\n",
    "        ARPU=('rev', 'mean'),            # Average Revenue Per User\n",
    "        ARPPU=('rev', lambda x: x[x > 0].mean() if len(x[x > 0]) > 0 else 0)  # ARPPU\n",
    "    )\n",
    "    return result"
   ]
  },
  {
   "cell_type": "code",
   "execution_count": 6,
   "metadata": {},
   "outputs": [],
   "source": [
    "data=make_df_and_metricks(df_groups,df_group_add,df_activ,df_checks)"
   ]
  },
  {
   "cell_type": "code",
   "execution_count": 7,
   "metadata": {},
   "outputs": [],
   "source": [
    "def visual_data(data_metricks):\n",
    "    \"\"\"Функция для визцализации метрик\"\"\"\n",
    "    sns.set(style=\"whitegrid\")\n",
    "    fig, axs = plt.subplots(nrows= 1 , ncols= 3, figsize = (15, 6)) \n",
    "\n",
    "    axs[0].bar(data_metricks.group,data_metricks.ARPU, color=['green', 'orange'], alpha=0.6)\n",
    "    axs[0].set_title('ARPU')\n",
    "\n",
    "    axs[1].bar(data_metricks.group, data_metricks.ARPPU, color=['green', 'orange'], alpha=0.6)\n",
    "    axs[1].set_title('ARPPU')\n",
    "\n",
    "    axs[2].bar(data_metricks.group, data_metricks.CR, color=['green', 'orange'], alpha=0.6)\n",
    "    axs[2].set_title('CR')\n",
    "\n",
    "    plt.show()\n",
    "\n"
   ]
  },
  {
   "cell_type": "code",
   "execution_count": 8,
   "metadata": {},
   "outputs": [
    {
     "data": {
      "image/png": "[encoded data removed]",
      "text/plain": [
       "<Figure size 1080x432 with 3 Axes>"
      ]
     },
     "metadata": {},
     "output_type": "display_data"
    }
   ],
   "source": [
    "\n",
    "visual_data(data)\n",
    "\n"
   ]
  },
  {
   "cell_type": "code",
   "execution_count": null,
   "metadata": {},
   "outputs": [],
   "source": []
  }
 ],
 "metadata": {
  "kernelspec": {
   "display_name": "Python 3",
   "language": "python",
   "name": "python3"
  },
  "language_info": {
   "codemirror_mode": {
    "name": "ipython",
    "version": 3
   },
   "file_extension": ".py",
   "mimetype": "text/x-python",
   "name": "python",
   "nbconvert_exporter": "python",
   "pygments_lexer": "ipython3",
   "version": "3.7.3"
  }
 },
 "nbformat": 4,
 "nbformat_minor": 4
}
